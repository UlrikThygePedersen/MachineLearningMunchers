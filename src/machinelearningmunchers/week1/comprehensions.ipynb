{
 "cells": [
  {
   "cell_type": "markdown",
   "metadata": {},
   "source": [
    "# List"
   ]
  },
  {
   "cell_type": "code",
   "execution_count": 2,
   "metadata": {},
   "outputs": [],
   "source": [
    "import pandas as pd"
   ]
  },
  {
   "cell_type": "code",
   "execution_count": 7,
   "metadata": {},
   "outputs": [
    {
     "data": {
      "text/plain": [
       "[0, 1, 2, 3, 4, 5, 6, 7, 8, 9]"
      ]
     },
     "execution_count": 7,
     "metadata": {},
     "output_type": "execute_result"
    }
   ],
   "source": [
    "cool_list = [x for x in range(10)]\n",
    "\n",
    "cool_list"
   ]
  },
  {
   "cell_type": "code",
   "execution_count": 9,
   "metadata": {},
   "outputs": [
    {
     "data": {
      "text/plain": [
       "[1, 3, 5, 7, 9]"
      ]
     },
     "execution_count": 9,
     "metadata": {},
     "output_type": "execute_result"
    }
   ],
   "source": [
    "cool_list = [x for x in range(10) if x % 2]\n",
    "\n",
    "cool_list"
   ]
  },
  {
   "cell_type": "code",
   "execution_count": 17,
   "metadata": {},
   "outputs": [
    {
     "data": {
      "text/plain": [
       "['apple', 'banana', 'mango']"
      ]
     },
     "execution_count": 17,
     "metadata": {},
     "output_type": "execute_result"
    }
   ],
   "source": [
    "fruits = [\"apple\", \"banana\", \"cherry\", \"kiwi\", \"mango\"]\n",
    "\n",
    "cool_list = [x for x in fruits if \"a\" in x]\n",
    "\n",
    "cool_list"
   ]
  },
  {
   "cell_type": "code",
   "execution_count": 14,
   "metadata": {},
   "outputs": [
    {
     "data": {
      "text/plain": [
       "['APPLE', 'BANANA', 'MANGO']"
      ]
     },
     "execution_count": 14,
     "metadata": {},
     "output_type": "execute_result"
    }
   ],
   "source": [
    "cool_list = [x.upper() for x in fruits if \"a\" in x]\n",
    "\n",
    "cool_list"
   ]
  },
  {
   "cell_type": "code",
   "execution_count": 19,
   "metadata": {},
   "outputs": [
    {
     "data": {
      "text/plain": [
       "['APPLE', 'BANANA', 'cherry', 'kiwi', 'MANGO']"
      ]
     },
     "execution_count": 19,
     "metadata": {},
     "output_type": "execute_result"
    }
   ],
   "source": [
    "cool_list = [x.upper() if \"a\" in x else x.lower() for x in fruits]\n",
    "\n",
    "cool_list"
   ]
  },
  {
   "cell_type": "markdown",
   "metadata": {},
   "source": [
    "# Dict"
   ]
  },
  {
   "cell_type": "code",
   "execution_count": 51,
   "metadata": {},
   "outputs": [],
   "source": [
    "foods = {'apple': 'fruit', 'beetroot': 'vegetable', 'cake': 'dessert'}"
   ]
  },
  {
   "cell_type": "code",
   "execution_count": 25,
   "metadata": {},
   "outputs": [
    {
     "data": {
      "text/plain": [
       "dict_keys(['apple', 'beetroot', 'cake'])"
      ]
     },
     "execution_count": 25,
     "metadata": {},
     "output_type": "execute_result"
    }
   ],
   "source": [
    "foods.keys()"
   ]
  },
  {
   "cell_type": "code",
   "execution_count": 26,
   "metadata": {},
   "outputs": [
    {
     "data": {
      "text/plain": [
       "dict_values(['fruit', 'vegetable', 'dessert'])"
      ]
     },
     "execution_count": 26,
     "metadata": {},
     "output_type": "execute_result"
    }
   ],
   "source": [
    "foods.values()"
   ]
  },
  {
   "cell_type": "code",
   "execution_count": 27,
   "metadata": {},
   "outputs": [
    {
     "data": {
      "text/plain": [
       "dict_items([('apple', 'fruit'), ('beetroot', 'vegetable'), ('cake', 'dessert')])"
      ]
     },
     "execution_count": 27,
     "metadata": {},
     "output_type": "execute_result"
    }
   ],
   "source": [
    "foods.items()"
   ]
  },
  {
   "cell_type": "code",
   "execution_count": 29,
   "metadata": {},
   "outputs": [
    {
     "data": {
      "text/plain": [
       "{'apple': 'fruit', 'beetroot': 'vegetable', 'cake': 'dessert'}"
      ]
     },
     "execution_count": 29,
     "metadata": {},
     "output_type": "execute_result"
    }
   ],
   "source": [
    "cool_dict = {key:value for (key,value) in foods.items()}\n",
    "\n",
    "cool_dict"
   ]
  },
  {
   "cell_type": "code",
   "execution_count": 30,
   "metadata": {},
   "outputs": [],
   "source": [
    "food_names = [\"apple\", \"beetroot\", \"cake\"]\n",
    "\n",
    "foods_categories = [\"fruit\", \"vegetable\", \"dessert\"]"
   ]
  },
  {
   "cell_type": "code",
   "execution_count": 31,
   "metadata": {},
   "outputs": [
    {
     "data": {
      "text/plain": [
       "{'apple': 'fruit', 'beetroot': 'vegetable', 'cake': 'dessert'}"
      ]
     },
     "execution_count": 31,
     "metadata": {},
     "output_type": "execute_result"
    }
   ],
   "source": [
    "cool_dict = {key:value for (key,value) in zip(food_names, foods_categories)}\n",
    "\n",
    "cool_dict"
   ]
  },
  {
   "cell_type": "code",
   "execution_count": 37,
   "metadata": {},
   "outputs": [
    {
     "data": {
      "text/plain": [
       "{('appleapple', 'fruitfruitfruit'),\n",
       " ('beetrootbeetroot', 'vegetablevegetablevegetable'),\n",
       " ('cakecake', 'dessertdessertdessert')}"
      ]
     },
     "execution_count": 37,
     "metadata": {},
     "output_type": "execute_result"
    }
   ],
   "source": [
    "cool_dict = {(key*2,value*3) for (key, value) in foods.items()}\n",
    "\n",
    "cool_dict"
   ]
  },
  {
   "cell_type": "code",
   "execution_count": 39,
   "metadata": {},
   "outputs": [
    {
     "data": {
      "text/plain": [
       "{('apple_COOL_KEY', 'fruit_COOL_VALUE'),\n",
       " ('beetroot_COOL_KEY', 'vegetable_COOL_VALUE'),\n",
       " ('cake_COOL_KEY', 'dessert_COOL_VALUE')}"
      ]
     },
     "execution_count": 39,
     "metadata": {},
     "output_type": "execute_result"
    }
   ],
   "source": [
    "cool_dict = {(key+'_COOL_KEY',value+'_COOL_VALUE') for (key, value) in zip(foods.keys(), foods.values())}\n",
    "\n",
    "cool_dict"
   ]
  },
  {
   "cell_type": "code",
   "execution_count": 48,
   "metadata": {},
   "outputs": [
    {
     "data": {
      "text/plain": [
       "{0: 0,\n",
       " 12: 144,\n",
       " 24: 576,\n",
       " 36: 1296,\n",
       " 48: 2304,\n",
       " 60: 3600,\n",
       " 72: 5184,\n",
       " 84: 7056,\n",
       " 96: 9216}"
      ]
     },
     "execution_count": 48,
     "metadata": {},
     "output_type": "execute_result"
    }
   ],
   "source": [
    "cool_dict = {n: n**2 for n in range(100) if not n % 3 and not n % 4}\n",
    "\n",
    "cool_dict"
   ]
  },
  {
   "cell_type": "code",
   "execution_count": 60,
   "metadata": {},
   "outputs": [
    {
     "data": {
      "text/plain": [
       "{'apple': 'fruit'}"
      ]
     },
     "execution_count": 60,
     "metadata": {},
     "output_type": "execute_result"
    }
   ],
   "source": [
    "cool_list = {k:v for (k,v) in foods.items() if \"a\" in k if \"u\" in v}\n",
    "\n",
    "cool_list"
   ]
  },
  {
   "cell_type": "markdown",
   "metadata": {},
   "source": [
    "# Code Example"
   ]
  },
  {
   "cell_type": "code",
   "execution_count": 66,
   "metadata": {},
   "outputs": [],
   "source": [
    "from dataclasses import dataclass\n",
    "from typing import Callable\n",
    "\n",
    "@dataclass(frozen=True, slots=True)\n",
    "class ValidationConfig:\n",
    "    validation_function: Callable\n",
    "    implementation_type: Callable\n",
    "    column_name: str\n",
    "    picklist_values: tuple = None\n",
    "\n",
    "\n",
    "def cool_function():\n",
    "    pass\n",
    "\n",
    "\n",
    "VALIDATOR_TYPES = ['picklist','email','boolean','date','name']\n",
    "\n",
    "\n",
    "VALIDATOR_CONFIGS = [ValidationConfig(\n",
    "        validation_function=cool_function,\n",
    "        implementation_type=cool_function,\n",
    "        column_name=cool_function,\n",
    "        picklist_values=cool_function,\n",
    "    ),ValidationConfig(\n",
    "        validation_function=cool_function,\n",
    "        implementation_type=cool_function,\n",
    "        column_name=cool_function,\n",
    "    ),ValidationConfig(\n",
    "        validation_function=cool_function,\n",
    "        implementation_type=cool_function,\n",
    "        column_name=cool_function,\n",
    "    ),\n",
    "    ValidationConfig(\n",
    "        validation_function=cool_function,\n",
    "        implementation_type=cool_function,\n",
    "        column_name=cool_function,\n",
    "    ),\n",
    "    ValidationConfig(\n",
    "        validation_function=cool_function,\n",
    "        implementation_type=cool_function,\n",
    "        column_name=cool_function,\n",
    "    )]\n",
    "\n",
    "\n",
    "validation_config_dispatcher = {k:v for (k,v) in zip(VALIDATOR_TYPES, VALIDATOR_CONFIGS) }"
   ]
  },
  {
   "cell_type": "code",
   "execution_count": 67,
   "metadata": {},
   "outputs": [
    {
     "data": {
      "text/plain": [
       "{'picklist': ValidationConfig(validation_function=<function cool_function at 0x121c96fc0>, implementation_type=<function cool_function at 0x121c96fc0>, column_name=<function cool_function at 0x121c96fc0>, picklist_values=<function cool_function at 0x121c96fc0>),\n",
       " 'email': ValidationConfig(validation_function=<function cool_function at 0x121c96fc0>, implementation_type=<function cool_function at 0x121c96fc0>, column_name=<function cool_function at 0x121c96fc0>, picklist_values=None),\n",
       " 'boolean': ValidationConfig(validation_function=<function cool_function at 0x121c96fc0>, implementation_type=<function cool_function at 0x121c96fc0>, column_name=<function cool_function at 0x121c96fc0>, picklist_values=None),\n",
       " 'date': ValidationConfig(validation_function=<function cool_function at 0x121c96fc0>, implementation_type=<function cool_function at 0x121c96fc0>, column_name=<function cool_function at 0x121c96fc0>, picklist_values=None),\n",
       " 'name': ValidationConfig(validation_function=<function cool_function at 0x121c96fc0>, implementation_type=<function cool_function at 0x121c96fc0>, column_name=<function cool_function at 0x121c96fc0>, picklist_values=None)}"
      ]
     },
     "execution_count": 67,
     "metadata": {},
     "output_type": "execute_result"
    }
   ],
   "source": [
    "validation_config_dispatcher"
   ]
  }
 ],
 "metadata": {
  "kernelspec": {
   "display_name": ".venv",
   "language": "python",
   "name": "python3"
  },
  "language_info": {
   "codemirror_mode": {
    "name": "ipython",
    "version": 3
   },
   "file_extension": ".py",
   "mimetype": "text/x-python",
   "name": "python",
   "nbconvert_exporter": "python",
   "pygments_lexer": "ipython3",
   "version": "3.12.2"
  }
 },
 "nbformat": 4,
 "nbformat_minor": 2
}
