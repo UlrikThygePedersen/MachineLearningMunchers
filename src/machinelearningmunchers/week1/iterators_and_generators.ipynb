{
 "cells": [
  {
   "cell_type": "code",
   "execution_count": 36,
   "metadata": {},
   "outputs": [],
   "source": [
    "generatorz = (x * 2 for x in range(20))\n",
    "\n",
    "generator = (x ** 2 for x in generatorz)"
   ]
  },
  {
   "cell_type": "code",
   "execution_count": 37,
   "metadata": {},
   "outputs": [
    {
     "data": {
      "text/plain": [
       "<generator object <genexpr> at 0x108f646c0>"
      ]
     },
     "execution_count": 37,
     "metadata": {},
     "output_type": "execute_result"
    }
   ],
   "source": [
    "generator"
   ]
  },
  {
   "cell_type": "code",
   "execution_count": 38,
   "metadata": {},
   "outputs": [
    {
     "name": "stdout",
     "output_type": "stream",
     "text": [
      "0 \n",
      "4 \n",
      "16 \n",
      "36 \n",
      "64 \n",
      "100 \n",
      "144 \n",
      "196 \n",
      "256 \n",
      "324 \n",
      "400 \n",
      "484 \n",
      "576 \n",
      "676 \n",
      "784 \n",
      "900 \n",
      "1024 \n",
      "1156 \n",
      "1296 \n",
      "1444 \n"
     ]
    }
   ],
   "source": [
    "for number in generator:\n",
    "    print(f\"{number} \")"
   ]
  },
  {
   "cell_type": "code",
   "execution_count": null,
   "metadata": {},
   "outputs": [],
   "source": []
  }
 ],
 "metadata": {
  "kernelspec": {
   "display_name": ".venv",
   "language": "python",
   "name": "python3"
  },
  "language_info": {
   "codemirror_mode": {
    "name": "ipython",
    "version": 3
   },
   "file_extension": ".py",
   "mimetype": "text/x-python",
   "name": "python",
   "nbconvert_exporter": "python",
   "pygments_lexer": "ipython3",
   "version": "3.12.2"
  }
 },
 "nbformat": 4,
 "nbformat_minor": 2
}
